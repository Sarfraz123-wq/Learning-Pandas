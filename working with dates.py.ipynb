{
 "cells": [
  {
   "cell_type": "code",
   "execution_count": 6,
   "id": "a270efd1",
   "metadata": {},
   "outputs": [
    {
     "name": "stdout",
     "output_type": "stream",
     "text": [
      "           date  new_cases  new_deaths  new_tests\n",
      "0    2019-12-31        0.0         0.0        NaN\n",
      "1    2020-01-01        0.0         0.0        NaN\n",
      "2    2020-01-02        0.0         0.0        NaN\n",
      "3    2020-01-03        0.0         0.0        NaN\n",
      "4    2020-01-04        0.0         0.0        NaN\n",
      "..          ...        ...         ...        ...\n",
      "243  2020-08-30     1444.0         1.0    53541.0\n",
      "244  2020-08-31     1365.0         4.0    42583.0\n",
      "245  2020-09-01      996.0         6.0    54395.0\n",
      "246  2020-09-02      975.0         8.0        NaN\n",
      "247  2020-09-03     1326.0         6.0        NaN\n",
      "\n",
      "[248 rows x 4 columns]\n",
      "           date  new_cases  new_deaths  new_tests\n",
      "0    2019-12-31        0.0         0.0        NaN\n",
      "1    2020-01-01        0.0         0.0        NaN\n",
      "2    2020-01-02        0.0         0.0        NaN\n",
      "3    2020-01-03        0.0         0.0        NaN\n",
      "4    2020-01-04        0.0         0.0        NaN\n",
      "..          ...        ...         ...        ...\n",
      "243  2020-08-30     1444.0         1.0    53541.0\n",
      "244  2020-08-31     1365.0         4.0    42583.0\n",
      "245  2020-09-01      996.0         6.0    54395.0\n",
      "246  2020-09-02      975.0         8.0        NaN\n",
      "247  2020-09-03     1326.0         6.0        NaN\n",
      "\n",
      "[248 rows x 4 columns]\n"
     ]
    }
   ],
   "source": [
    "import pandas as pd\n",
    "\n",
    "covid_df = pd.read_csv('italy-covid-daywise.csv')\n",
    "print(covid_df)\n"
   ]
  },
  {
   "cell_type": "code",
   "execution_count": 8,
   "id": "7a99303d",
   "metadata": {},
   "outputs": [
    {
     "name": "stdout",
     "output_type": "stream",
     "text": [
      "0      2019-12-31\n",
      "1      2020-01-01\n",
      "2      2020-01-02\n",
      "3      2020-01-03\n",
      "4      2020-01-04\n",
      "          ...    \n",
      "243    2020-08-30\n",
      "244    2020-08-31\n",
      "245    2020-09-01\n",
      "246    2020-09-02\n",
      "247    2020-09-03\n",
      "Name: date, Length: 248, dtype: object\n"
     ]
    }
   ],
   "source": [
    "print(covid_df.date) # it a object type bydefault to convert it into date we use pd.to_datetime() "
   ]
  },
  {
   "cell_type": "code",
   "execution_count": 12,
   "id": "53eea50f",
   "metadata": {},
   "outputs": [
    {
     "name": "stdout",
     "output_type": "stream",
     "text": [
      "0     2019-12-31\n",
      "1     2020-01-01\n",
      "2     2020-01-02\n",
      "3     2020-01-03\n",
      "4     2020-01-04\n",
      "         ...    \n",
      "243   2020-08-30\n",
      "244   2020-08-31\n",
      "245   2020-09-01\n",
      "246   2020-09-02\n",
      "247   2020-09-03\n",
      "Name: date, Length: 248, dtype: datetime64[ns]\n"
     ]
    }
   ],
   "source": [
    "covid_df['date'] = pd.to_datetime(covid_df.date)\n",
    "print(covid_df['date']) # now it is a date type"
   ]
  },
  {
   "cell_type": "code",
   "execution_count": 15,
   "id": "cfc1dbe4",
   "metadata": {},
   "outputs": [
    {
     "name": "stdout",
     "output_type": "stream",
     "text": [
      "0      2019\n",
      "1      2020\n",
      "2      2020\n",
      "3      2020\n",
      "4      2020\n",
      "       ... \n",
      "243    2020\n",
      "244    2020\n",
      "245    2020\n",
      "246    2020\n",
      "247    2020\n",
      "Name: year, Length: 248, dtype: int64\n"
     ]
    }
   ],
   "source": [
    "#  We can now extract different parts of the data into separate columns, using the DatetimeIndex class \n",
    "\n",
    "covid_df['year'] = pd.DatetimeIndex(covid_df.date).year\n",
    "print(covid_df['year'])"
   ]
  },
  {
   "cell_type": "code",
   "execution_count": 17,
   "id": "a7c57d2e",
   "metadata": {},
   "outputs": [
    {
     "name": "stdout",
     "output_type": "stream",
     "text": [
      "0      12\n",
      "1       1\n",
      "2       1\n",
      "3       1\n",
      "4       1\n",
      "       ..\n",
      "243     8\n",
      "244     8\n",
      "245     9\n",
      "246     9\n",
      "247     9\n",
      "Name: month, Length: 248, dtype: int64\n"
     ]
    }
   ],
   "source": [
    "covid_df['month'] = pd.DatetimeIndex(covid_df['date']).month\n",
    "print(covid_df['month'])"
   ]
  },
  {
   "cell_type": "code",
   "execution_count": 19,
   "id": "32255e26",
   "metadata": {},
   "outputs": [
    {
     "name": "stdout",
     "output_type": "stream",
     "text": [
      "0      31\n",
      "1       1\n",
      "2       2\n",
      "3       3\n",
      "4       4\n",
      "       ..\n",
      "243    30\n",
      "244    31\n",
      "245     1\n",
      "246     2\n",
      "247     3\n",
      "Name: day, Length: 248, dtype: int64\n"
     ]
    }
   ],
   "source": [
    "covid_df['day'] = pd.DatetimeIndex(covid_df.date).day\n",
    "print(covid_df['day'])"
   ]
  },
  {
   "cell_type": "code",
   "execution_count": 21,
   "id": "a3d15c60",
   "metadata": {},
   "outputs": [
    {
     "name": "stdout",
     "output_type": "stream",
     "text": [
      "0      1\n",
      "1      2\n",
      "2      3\n",
      "3      4\n",
      "4      5\n",
      "      ..\n",
      "243    6\n",
      "244    0\n",
      "245    1\n",
      "246    2\n",
      "247    3\n",
      "Name: weekdays, Length: 248, dtype: int64\n"
     ]
    }
   ],
   "source": [
    "covid_df['weekdays'] = pd.DatetimeIndex(covid_df.date).weekday\n",
    "print(covid_df['weekdays'])"
   ]
  },
  {
   "cell_type": "code",
   "execution_count": 22,
   "id": "df447ee7",
   "metadata": {},
   "outputs": [
    {
     "name": "stdout",
     "output_type": "stream",
     "text": [
      "          date  new_cases  new_deaths  new_tests  year  month  day  weekdays\n",
      "0   2019-12-31        0.0         0.0        NaN  2019     12   31         1\n",
      "1   2020-01-01        0.0         0.0        NaN  2020      1    1         2\n",
      "2   2020-01-02        0.0         0.0        NaN  2020      1    2         3\n",
      "3   2020-01-03        0.0         0.0        NaN  2020      1    3         4\n",
      "4   2020-01-04        0.0         0.0        NaN  2020      1    4         5\n",
      "..         ...        ...         ...        ...   ...    ...  ...       ...\n",
      "243 2020-08-30     1444.0         1.0    53541.0  2020      8   30         6\n",
      "244 2020-08-31     1365.0         4.0    42583.0  2020      8   31         0\n",
      "245 2020-09-01      996.0         6.0    54395.0  2020      9    1         1\n",
      "246 2020-09-02      975.0         8.0        NaN  2020      9    2         2\n",
      "247 2020-09-03     1326.0         6.0        NaN  2020      9    3         3\n",
      "\n",
      "[248 rows x 8 columns]\n"
     ]
    }
   ],
   "source": [
    "# Now printing all these newly added date columns\n",
    "print(covid_df)"
   ]
  },
  {
   "cell_type": "code",
   "execution_count": 32,
   "id": "dd4cb103",
   "metadata": {},
   "outputs": [
    {
     "name": "stdout",
     "output_type": "stream",
     "text": [
      "     new_cases  new_deaths  new_tests\n",
      "122     1872.0       285.0    43732.0\n",
      "123     1965.0       269.0    31231.0\n",
      "124     1900.0       474.0    27047.0\n",
      "125     1389.0       174.0    22999.0\n",
      "126     1221.0       195.0    32211.0\n",
      "127     1075.0       236.0    37771.0\n",
      "128     1444.0       369.0    13665.0\n",
      "129     1401.0       274.0    45428.0\n",
      "130     1327.0       243.0    36091.0\n",
      "131     1083.0       194.0    31384.0\n",
      "132      802.0       165.0    25823.0\n",
      "133      744.0       179.0    39620.0\n",
      "134     1402.0       172.0    37049.0\n",
      "135      888.0       195.0    41131.0\n",
      "136      992.0       262.0    39027.0\n",
      "137      789.0       242.0    40657.0\n",
      "138      875.0       153.0    33505.0\n",
      "139      675.0       145.0    26101.0\n",
      "140      451.0        99.0    40226.0\n",
      "141      813.0       162.0    38617.0\n",
      "142      665.0       161.0    40644.0\n",
      "143      642.0       156.0    42987.0\n",
      "144      652.0       130.0    42579.0\n",
      "145      669.0       119.0    34206.0\n",
      "146      531.0        50.0    20676.0\n",
      "147      300.0        92.0    33944.0\n",
      "148      397.0        78.0    37299.0\n",
      "149      584.0       117.0    39838.0\n",
      "150      593.0        70.0    38233.0\n",
      "151      516.0        87.0    36051.0\n",
      "152      416.0       111.0    28948.0\n",
      "new_cases       29073.0\n",
      "new_deaths       5658.0\n",
      "new_tests     1078720.0\n",
      "dtype: float64\n",
      "<class 'pandas.core.series.Series'>\n"
     ]
    }
   ],
   "source": [
    "# Query the rows for May\n",
    "covid_df_may = covid_df[covid_df.month == 5]\n",
    "# print(covid_df_may)\n",
    "mayMatrics = covid_df_may[['new_cases','new_deaths','new_tests']]\n",
    "print(mayMatrics)\n",
    "# Print the column wise sum\n",
    "totalMayMatrics = mayMatrics.sum()\n",
    "print(totalMayMatrics)\n",
    "print(type(totalMayMatrics))"
   ]
  },
  {
   "cell_type": "code",
   "execution_count": 49,
   "id": "dc9b2024",
   "metadata": {},
   "outputs": [
    {
     "name": "stdout",
     "output_type": "stream",
     "text": [
      "1094.8185483870968\n",
      "1247.2571428571428\n"
     ]
    }
   ],
   "source": [
    "# As another example, let's check if the number of cases reported on Sundays is higher than the average number\n",
    "# of cases reported every day. This time, we might want to aggregate columns using the .mean method.\n",
    "\n",
    "avgCases = covid_df.new_cases.mean()\n",
    "print(avgCases)\n",
    "\n",
    "# Now taking the avg cases of sunday\n",
    "# Monday = 0, Sunday = 6\n",
    "sundayCases = covid_df[covid_df.weekdays == 6].new_cases.mean()\n",
    "print(sundayCases)"
   ]
  },
  {
   "cell_type": "code",
   "execution_count": null,
   "id": "61eaa60c",
   "metadata": {},
   "outputs": [],
   "source": []
  }
 ],
 "metadata": {
  "kernelspec": {
   "display_name": "Python 3",
   "language": "python",
   "name": "python3"
  },
  "language_info": {
   "codemirror_mode": {
    "name": "ipython",
    "version": 3
   },
   "file_extension": ".py",
   "mimetype": "text/x-python",
   "name": "python",
   "nbconvert_exporter": "python",
   "pygments_lexer": "ipython3",
   "version": "3.8.8"
  }
 },
 "nbformat": 4,
 "nbformat_minor": 5
}
