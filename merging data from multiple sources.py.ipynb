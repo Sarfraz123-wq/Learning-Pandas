{
 "cells": [
  {
   "cell_type": "code",
   "execution_count": 8,
   "id": "c6d539a2",
   "metadata": {},
   "outputs": [
    {
     "name": "stdout",
     "output_type": "stream",
     "text": [
      "          location continent    population  life_expectancy  \\\n",
      "0      Afghanistan      Asia  3.892834e+07            64.83   \n",
      "1          Albania    Europe  2.877800e+06            78.57   \n",
      "2          Algeria    Africa  4.385104e+07            76.88   \n",
      "3          Andorra    Europe  7.726500e+04            83.73   \n",
      "4           Angola    Africa  3.286627e+07            61.15   \n",
      "..             ...       ...           ...              ...   \n",
      "207          Yemen      Asia  2.982597e+07            66.12   \n",
      "208         Zambia    Africa  1.838396e+07            63.89   \n",
      "209       Zimbabwe    Africa  1.486293e+07            61.49   \n",
      "210          World       NaN  7.794799e+09            72.58   \n",
      "211  International       NaN           NaN              NaN   \n",
      "\n",
      "     hospital_beds_per_thousand  gdp_per_capita  \n",
      "0                         0.500        1803.987  \n",
      "1                         2.890       11803.431  \n",
      "2                         1.900       13913.839  \n",
      "3                           NaN             NaN  \n",
      "4                           NaN        5819.495  \n",
      "..                          ...             ...  \n",
      "207                       0.700        1479.147  \n",
      "208                       2.000        3689.251  \n",
      "209                       1.700        1899.775  \n",
      "210                       2.705       15469.207  \n",
      "211                         NaN             NaN  \n",
      "\n",
      "[212 rows x 6 columns]\n",
      "           date  new_cases  new_deaths  new_tests\n",
      "0    2019-12-31        0.0         0.0        NaN\n",
      "1    2020-01-01        0.0         0.0        NaN\n",
      "2    2020-01-02        0.0         0.0        NaN\n",
      "3    2020-01-03        0.0         0.0        NaN\n",
      "4    2020-01-04        0.0         0.0        NaN\n",
      "..          ...        ...         ...        ...\n",
      "243  2020-08-30     1444.0         1.0    53541.0\n",
      "244  2020-08-31     1365.0         4.0    42583.0\n",
      "245  2020-09-01      996.0         6.0    54395.0\n",
      "246  2020-09-02      975.0         8.0        NaN\n",
      "247  2020-09-03     1326.0         6.0        NaN\n",
      "\n",
      "[248 rows x 4 columns]\n"
     ]
    }
   ],
   "source": [
    "'''\n",
    "To determine other metrics like test per million, cases per million, etc., we require some more information about the\n",
    "country, viz. its population. Let's download another file locations.csv that contains health-related information for \n",
    "many countries, including Italy.\n",
    "\n",
    "'''\n",
    "import pandas as pd\n",
    "from urllib.request import urlretrieve\n",
    "urlretrieve('https://gist.githubusercontent.com/aakashns/8684589ef4f266116cdce023377fc9c8/raw/99ce3826b2a9d1e6d0bde7e9e559fc8b6e9ac88b/locations.csv', \n",
    "            'locations.csv')\n",
    "locations_df = pd.read_csv('locations.csv')\n",
    "print(locations_df)\n",
    "covid_df = pd.read_csv('italy-covid-daywise.csv')\n",
    "print(covid_df)"
   ]
  },
  {
   "cell_type": "code",
   "execution_count": 9,
   "id": "2e935081",
   "metadata": {},
   "outputs": [
    {
     "name": "stdout",
     "output_type": "stream",
     "text": [
      "           date  new_cases  new_deaths  new_tests location\n",
      "0    2019-12-31        0.0         0.0        NaN    Italy\n",
      "1    2020-01-01        0.0         0.0        NaN    Italy\n",
      "2    2020-01-02        0.0         0.0        NaN    Italy\n",
      "3    2020-01-03        0.0         0.0        NaN    Italy\n",
      "4    2020-01-04        0.0         0.0        NaN    Italy\n",
      "..          ...        ...         ...        ...      ...\n",
      "243  2020-08-30     1444.0         1.0    53541.0    Italy\n",
      "244  2020-08-31     1365.0         4.0    42583.0    Italy\n",
      "245  2020-09-01      996.0         6.0    54395.0    Italy\n",
      "246  2020-09-02      975.0         8.0        NaN    Italy\n",
      "247  2020-09-03     1326.0         6.0        NaN    Italy\n",
      "\n",
      "[248 rows x 5 columns]\n"
     ]
    }
   ],
   "source": [
    "# How to merge these files\n",
    "# If we wanna merge multiple files. It is necessary to have one common column between them.\n",
    "# Here location is common.\n",
    "# make location = italy in covid_df to merge it into covid_df. because covid is of italy record\n",
    "\n",
    "covid_df['location'] = 'Italy'\n",
    "print(covid_df)"
   ]
  },
  {
   "cell_type": "code",
   "execution_count": 11,
   "id": "47e4df74",
   "metadata": {},
   "outputs": [
    {
     "name": "stdout",
     "output_type": "stream",
     "text": [
      "           date  new_cases  new_deaths  new_tests location continent  \\\n",
      "0    2019-12-31        0.0         0.0        NaN    Italy    Europe   \n",
      "1    2020-01-01        0.0         0.0        NaN    Italy    Europe   \n",
      "2    2020-01-02        0.0         0.0        NaN    Italy    Europe   \n",
      "3    2020-01-03        0.0         0.0        NaN    Italy    Europe   \n",
      "4    2020-01-04        0.0         0.0        NaN    Italy    Europe   \n",
      "..          ...        ...         ...        ...      ...       ...   \n",
      "243  2020-08-30     1444.0         1.0    53541.0    Italy    Europe   \n",
      "244  2020-08-31     1365.0         4.0    42583.0    Italy    Europe   \n",
      "245  2020-09-01      996.0         6.0    54395.0    Italy    Europe   \n",
      "246  2020-09-02      975.0         8.0        NaN    Italy    Europe   \n",
      "247  2020-09-03     1326.0         6.0        NaN    Italy    Europe   \n",
      "\n",
      "     population  life_expectancy  hospital_beds_per_thousand  gdp_per_capita  \n",
      "0    60461828.0            83.51                        3.18       35220.084  \n",
      "1    60461828.0            83.51                        3.18       35220.084  \n",
      "2    60461828.0            83.51                        3.18       35220.084  \n",
      "3    60461828.0            83.51                        3.18       35220.084  \n",
      "4    60461828.0            83.51                        3.18       35220.084  \n",
      "..          ...              ...                         ...             ...  \n",
      "243  60461828.0            83.51                        3.18       35220.084  \n",
      "244  60461828.0            83.51                        3.18       35220.084  \n",
      "245  60461828.0            83.51                        3.18       35220.084  \n",
      "246  60461828.0            83.51                        3.18       35220.084  \n",
      "247  60461828.0            83.51                        3.18       35220.084  \n",
      "\n",
      "[248 rows x 10 columns]\n"
     ]
    }
   ],
   "source": [
    "# Now we can merge these two files on location\n",
    "\n",
    "merged_df = covid_df.merge(locations_df, on=\"location\")\n",
    "print(merged_df)"
   ]
  },
  {
   "cell_type": "code",
   "execution_count": null,
   "id": "d51ed38d",
   "metadata": {},
   "outputs": [],
   "source": []
  }
 ],
 "metadata": {
  "kernelspec": {
   "display_name": "Python 3",
   "language": "python",
   "name": "python3"
  },
  "language_info": {
   "codemirror_mode": {
    "name": "ipython",
    "version": 3
   },
   "file_extension": ".py",
   "mimetype": "text/x-python",
   "name": "python",
   "nbconvert_exporter": "python",
   "pygments_lexer": "ipython3",
   "version": "3.8.8"
  }
 },
 "nbformat": 4,
 "nbformat_minor": 5
}
