{
 "cells": [
  {
   "cell_type": "code",
   "execution_count": 13,
   "id": "590af3e6",
   "metadata": {},
   "outputs": [
    {
     "name": "stdout",
     "output_type": "stream",
     "text": [
      "           date  new_cases  new_deaths  new_tests\n",
      "0    2019-12-31        0.0         0.0        NaN\n",
      "1    2020-01-01        0.0         0.0        NaN\n",
      "2    2020-01-02        0.0         0.0        NaN\n",
      "3    2020-01-03        0.0         0.0        NaN\n",
      "4    2020-01-04        0.0         0.0        NaN\n",
      "..          ...        ...         ...        ...\n",
      "243  2020-08-30     1444.0         1.0    53541.0\n",
      "244  2020-08-31     1365.0         4.0    42583.0\n",
      "245  2020-09-01      996.0         6.0    54395.0\n",
      "246  2020-09-02      975.0         8.0        NaN\n",
      "247  2020-09-03     1326.0         6.0        NaN\n",
      "\n",
      "[248 rows x 4 columns]\n",
      "The total number of new cases and deaths are 271515.0, 35497.0 respectively.\n"
     ]
    }
   ],
   "source": [
    "# Q: What are the total number of reported cases and deaths related to Covid-19 in Italy?\n",
    "\n",
    "import pandas as pd\n",
    "covid_df = pd.read_csv('italy-covid-daywise.csv')\n",
    "print(covid_df)\n",
    "\n",
    "# Similar to Numpy arrays, a Pandas series supports the sum method to answer these questions.\n",
    "total_cases = covid_df.new_cases.sum()\n",
    "# print(total_cases)\n",
    "total_deaths = covid_df.new_deaths.sum()\n",
    "# print(total_deaths)\n",
    "print('The total number of new cases and deaths are {}, {} respectively.'.format(total_cases,total_deaths))"
   ]
  },
  {
   "cell_type": "code",
   "execution_count": 33,
   "id": "088ce8e6",
   "metadata": {},
   "outputs": [
    {
     "name": "stdout",
     "output_type": "stream",
     "text": [
      "The Death Ratio is 13.07%\n"
     ]
    }
   ],
   "source": [
    "# Q: What is the overall death rate (ratio of reported deaths to reported cases)?\n",
    "deathRatio = round(((total_deaths/total_cases)*100),2)\n",
    "# print(deathRatio)\n",
    "print('The Death Ratio is {}%'.format(deathRatio))"
   ]
  },
  {
   "cell_type": "code",
   "execution_count": 35,
   "id": "ca3428fa",
   "metadata": {},
   "outputs": [
    {
     "name": "stdout",
     "output_type": "stream",
     "text": [
      "The overall 5214766.0 tests are conducted\n"
     ]
    }
   ],
   "source": [
    "# Q: What is the overall number of tests conducted? A total of 935310 tests were conducted before daily test numbers were reported.\n",
    "initialTests = 935310\n",
    "overallTests = initialTests + covid_df.new_tests.sum() \n",
    "print('The overall {} tests are conducted'.format(overallTests))"
   ]
  },
  {
   "cell_type": "code",
   "execution_count": 42,
   "id": "b5cc166f",
   "metadata": {},
   "outputs": [
    {
     "name": "stdout",
     "output_type": "stream",
     "text": [
      "Fraction of tests returned positive are 5.21%\n"
     ]
    }
   ],
   "source": [
    "# Q: What fraction of tests returned a positive result?\n",
    "# print(covid_df)\n",
    "positive = round(((total_cases/overallTests) * 100),2)\n",
    "print('Fraction of tests returned positive are {}%'.format(positive))"
   ]
  },
  {
   "cell_type": "code",
   "execution_count": null,
   "id": "9ec0c9bb",
   "metadata": {},
   "outputs": [],
   "source": []
  }
 ],
 "metadata": {
  "kernelspec": {
   "display_name": "Python 3",
   "language": "python",
   "name": "python3"
  },
  "language_info": {
   "codemirror_mode": {
    "name": "ipython",
    "version": 3
   },
   "file_extension": ".py",
   "mimetype": "text/x-python",
   "name": "python",
   "nbconvert_exporter": "python",
   "pygments_lexer": "ipython3",
   "version": "3.8.8"
  }
 },
 "nbformat": 4,
 "nbformat_minor": 5
}
