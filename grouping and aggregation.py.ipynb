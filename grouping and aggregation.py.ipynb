{
 "cells": [
  {
   "cell_type": "code",
   "execution_count": 16,
   "id": "c1437a62",
   "metadata": {},
   "outputs": [
    {
     "name": "stdout",
     "output_type": "stream",
     "text": [
      "       new_cases  new_deaths  new_tests\n",
      "month                                  \n",
      "1            3.0         0.0        0.0\n",
      "2          885.0        21.0        0.0\n",
      "3       100851.0     11570.0        0.0\n",
      "4       101852.0     16091.0   419591.0\n",
      "5        29073.0      5658.0  1078720.0\n",
      "6         7772.0      1404.0   830354.0\n",
      "7         6722.0       388.0   797692.0\n",
      "8        21060.0       345.0  1098704.0\n",
      "9         3297.0        20.0    54395.0\n",
      "12           0.0         0.0        0.0\n",
      "Printing mean monthly wise \n",
      "------------------------\n",
      "         new_cases     new_tests  new_deaths\n",
      "month                                       \n",
      "1         0.096774           NaN    0.000000\n",
      "2        30.517241           NaN    0.724138\n",
      "3      3253.258065           NaN  373.225806\n",
      "4      3395.066667  38144.636364  536.366667\n",
      "5       937.838710  34797.419355  182.516129\n",
      "6       259.066667  27678.466667   46.800000\n",
      "7       216.838710  25732.000000   12.516129\n",
      "8       679.354839  35442.064516   11.129032\n",
      "9      1099.000000  54395.000000    6.666667\n",
      "12        0.000000           NaN    0.000000\n"
     ]
    }
   ],
   "source": [
    "# Grouping and aggregation\n",
    "\n",
    "# As a next step, we might want to summarize the day-wise data and create a new dataframe with month-wise data.\n",
    "# We can use the groupby function to create a group for each month, select the columns we wish to aggregate,\n",
    "# and aggregate them using the sum method.\n",
    "import pandas as pd\n",
    "covid_df = pd.read_csv('italy-covid-daywise.csv')\n",
    "covid_df['month'] = pd.DatetimeIndex(covid_df.date).month  \n",
    "covidMonth = covid_df.groupby('month')[['new_cases', 'new_deaths', 'new_tests']].sum()\n",
    "print(covidMonth)\n",
    "print(\"Printing mean monthly wise \")\n",
    "print('------------------------')\n",
    "# avg new_cases,new_deaths and new_tests monthly wise\n",
    "monthWise = covid_df.groupby('month')[['new_cases','new_tests','new_deaths']].mean()\n",
    "print(monthWise)"
   ]
  },
  {
   "cell_type": "code",
   "execution_count": 23,
   "id": "6617673e",
   "metadata": {},
   "outputs": [
    {
     "name": "stdout",
     "output_type": "stream",
     "text": [
      "0           0.0\n",
      "1           0.0\n",
      "2           0.0\n",
      "3           0.0\n",
      "4           0.0\n",
      "         ...   \n",
      "243    266853.0\n",
      "244    268218.0\n",
      "245    269214.0\n",
      "246    270189.0\n",
      "247    271515.0\n",
      "Name: total_cases, Length: 248, dtype: float64\n",
      "0            NaN\n",
      "1            NaN\n",
      "2            NaN\n",
      "3            NaN\n",
      "4            NaN\n",
      "         ...    \n",
      "243    4182478.0\n",
      "244    4225061.0\n",
      "245    4279456.0\n",
      "246          NaN\n",
      "247          NaN\n",
      "Name: total_tests, Length: 248, dtype: float64\n"
     ]
    }
   ],
   "source": [
    "# cumsum()\n",
    "# d/f between sum and cumsum.\n",
    "# sum is the one total value while cumsum is the series of sum of previous and next values\n",
    "\n",
    "# a=7\n",
    "# b=10\n",
    "# c=12\n",
    "# sum = 29\n",
    "# cumsum = 7,17,29\n",
    "\n",
    "# Apart from grouping, another form of aggregation is the running or cumulative sum of cases, tests,\n",
    "# or death up to each row's date. We can use the cumsum method to compute the cumulative sum of a column\n",
    "# as a new series. Let's add three new columns: total_cases, total_deaths, and total_tests.\n",
    "\n",
    "covid_df['total_cases'] = covid_df['new_cases'].cumsum()\n",
    "print(covid_df['total_cases'])\n",
    "covid_df['total_tests'] = covid_df.new_tests.cumsum()\n",
    "print(covid_df['total_tests'])\n"
   ]
  },
  {
   "cell_type": "code",
   "execution_count": 24,
   "id": "3bd57d16",
   "metadata": {},
   "outputs": [
    {
     "name": "stdout",
     "output_type": "stream",
     "text": [
      "           date  new_cases  new_deaths  new_tests  month  total_cases  \\\n",
      "0    2019-12-31        0.0         0.0        NaN     12          0.0   \n",
      "1    2020-01-01        0.0         0.0        NaN      1          0.0   \n",
      "2    2020-01-02        0.0         0.0        NaN      1          0.0   \n",
      "3    2020-01-03        0.0         0.0        NaN      1          0.0   \n",
      "4    2020-01-04        0.0         0.0        NaN      1          0.0   \n",
      "..          ...        ...         ...        ...    ...          ...   \n",
      "243  2020-08-30     1444.0         1.0    53541.0      8     266853.0   \n",
      "244  2020-08-31     1365.0         4.0    42583.0      8     268218.0   \n",
      "245  2020-09-01      996.0         6.0    54395.0      9     269214.0   \n",
      "246  2020-09-02      975.0         8.0        NaN      9     270189.0   \n",
      "247  2020-09-03     1326.0         6.0        NaN      9     271515.0   \n",
      "\n",
      "     total_tests  \n",
      "0            NaN  \n",
      "1            NaN  \n",
      "2            NaN  \n",
      "3            NaN  \n",
      "4            NaN  \n",
      "..           ...  \n",
      "243    4182478.0  \n",
      "244    4225061.0  \n",
      "245    4279456.0  \n",
      "246          NaN  \n",
      "247          NaN  \n",
      "\n",
      "[248 rows x 7 columns]\n"
     ]
    }
   ],
   "source": [
    "print(covid_df)"
   ]
  },
  {
   "cell_type": "code",
   "execution_count": null,
   "id": "9114e0a4",
   "metadata": {},
   "outputs": [],
   "source": []
  }
 ],
 "metadata": {
  "kernelspec": {
   "display_name": "Python 3",
   "language": "python",
   "name": "python3"
  },
  "language_info": {
   "codemirror_mode": {
    "name": "ipython",
    "version": 3
   },
   "file_extension": ".py",
   "mimetype": "text/x-python",
   "name": "python",
   "nbconvert_exporter": "python",
   "pygments_lexer": "ipython3",
   "version": "3.8.8"
  }
 },
 "nbformat": 4,
 "nbformat_minor": 5
}
